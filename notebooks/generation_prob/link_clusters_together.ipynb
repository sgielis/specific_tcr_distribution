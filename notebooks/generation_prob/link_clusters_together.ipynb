{
 "cells": [
  {
   "cell_type": "markdown",
   "metadata": {},
   "source": [
    "# Comparison of pgen between clustered TCRs and TCRs that link clusters together"
   ]
  },
  {
   "cell_type": "code",
   "execution_count": 1,
   "metadata": {},
   "outputs": [],
   "source": [
    "# Imports\n",
    "import os\n",
    "import pandas as pd\n",
    "\n",
    "os.chdir('path_to_your_dir/generation_prob')\n",
    "import gen_prob_distributions as gpd\n",
    "\n",
    "# Set directory\n",
    "os.chdir('path_to_your_dir')\n"
   ]
  },
  {
   "cell_type": "markdown",
   "metadata": {},
   "source": [
    "# Generation probability distribution in true repertoires"
   ]
  },
  {
   "cell_type": "markdown",
   "metadata": {},
   "source": [
    "### Read TCRex data"
   ]
  },
  {
   "cell_type": "code",
   "execution_count": 2,
   "metadata": {},
   "outputs": [
    {
     "data": {
      "text/html": [
       "<div>\n",
       "<style scoped>\n",
       "    .dataframe tbody tr th:only-of-type {\n",
       "        vertical-align: middle;\n",
       "    }\n",
       "\n",
       "    .dataframe tbody tr th {\n",
       "        vertical-align: top;\n",
       "    }\n",
       "\n",
       "    .dataframe thead th {\n",
       "        text-align: right;\n",
       "    }\n",
       "</style>\n",
       "<table border=\"1\" class=\"dataframe\">\n",
       "  <thead>\n",
       "    <tr style=\"text-align: right;\">\n",
       "      <th></th>\n",
       "      <th>v_call</th>\n",
       "      <th>junction_aa</th>\n",
       "      <th>j_call</th>\n",
       "      <th>epitope</th>\n",
       "    </tr>\n",
       "  </thead>\n",
       "  <tbody>\n",
       "    <tr>\n",
       "      <th>0</th>\n",
       "      <td>TRBV05-01</td>\n",
       "      <td>CASSGGDRGNTEAFF</td>\n",
       "      <td>TRBJ01-01</td>\n",
       "      <td>KLPDDFTGCV</td>\n",
       "    </tr>\n",
       "    <tr>\n",
       "      <th>1</th>\n",
       "      <td>TRBV06-02</td>\n",
       "      <td>CASSHNRDRAYNEQFF</td>\n",
       "      <td>TRBJ02-01</td>\n",
       "      <td>KLPDDFTGCV</td>\n",
       "    </tr>\n",
       "    <tr>\n",
       "      <th>2</th>\n",
       "      <td>TRBV27</td>\n",
       "      <td>CASSPYNSPLHF</td>\n",
       "      <td>TRBJ01-06</td>\n",
       "      <td>KLPDDFTGCV</td>\n",
       "    </tr>\n",
       "    <tr>\n",
       "      <th>3</th>\n",
       "      <td>TRBV19</td>\n",
       "      <td>CASGILGPKDEAFF</td>\n",
       "      <td>TRBJ01-01</td>\n",
       "      <td>KLPDDFTGCV</td>\n",
       "    </tr>\n",
       "    <tr>\n",
       "      <th>4</th>\n",
       "      <td>TRBV04-01</td>\n",
       "      <td>CASSQVTRGGYNEQFF</td>\n",
       "      <td>TRBJ02-01</td>\n",
       "      <td>KLPDDFTGCV</td>\n",
       "    </tr>\n",
       "    <tr>\n",
       "      <th>...</th>\n",
       "      <td>...</td>\n",
       "      <td>...</td>\n",
       "      <td>...</td>\n",
       "      <td>...</td>\n",
       "    </tr>\n",
       "    <tr>\n",
       "      <th>22583</th>\n",
       "      <td>TRBV19</td>\n",
       "      <td>CASSIFSTPNQPQHF</td>\n",
       "      <td>TRBJ01-05</td>\n",
       "      <td>GILGFVFTL</td>\n",
       "    </tr>\n",
       "    <tr>\n",
       "      <th>22584</th>\n",
       "      <td>TRBV19</td>\n",
       "      <td>CATGFPYEQYF</td>\n",
       "      <td>TRBJ02-07</td>\n",
       "      <td>GILGFVFTL</td>\n",
       "    </tr>\n",
       "    <tr>\n",
       "      <th>22585</th>\n",
       "      <td>TRBV19</td>\n",
       "      <td>CASSIYSNTEAFF</td>\n",
       "      <td>TRBJ01-01</td>\n",
       "      <td>GILGFVFTL</td>\n",
       "    </tr>\n",
       "    <tr>\n",
       "      <th>22586</th>\n",
       "      <td>TRBV19</td>\n",
       "      <td>CASSGRSNTEAFF</td>\n",
       "      <td>TRBJ01-01</td>\n",
       "      <td>GILGFVFTL</td>\n",
       "    </tr>\n",
       "    <tr>\n",
       "      <th>22587</th>\n",
       "      <td>TRBV19</td>\n",
       "      <td>CASSITSSYNEQFF</td>\n",
       "      <td>TRBJ02-01</td>\n",
       "      <td>GILGFVFTL</td>\n",
       "    </tr>\n",
       "  </tbody>\n",
       "</table>\n",
       "<p>22588 rows × 4 columns</p>\n",
       "</div>"
      ],
      "text/plain": [
       "          v_call       junction_aa     j_call     epitope\n",
       "0      TRBV05-01   CASSGGDRGNTEAFF  TRBJ01-01  KLPDDFTGCV\n",
       "1      TRBV06-02  CASSHNRDRAYNEQFF  TRBJ02-01  KLPDDFTGCV\n",
       "2         TRBV27      CASSPYNSPLHF  TRBJ01-06  KLPDDFTGCV\n",
       "3         TRBV19    CASGILGPKDEAFF  TRBJ01-01  KLPDDFTGCV\n",
       "4      TRBV04-01  CASSQVTRGGYNEQFF  TRBJ02-01  KLPDDFTGCV\n",
       "...          ...               ...        ...         ...\n",
       "22583     TRBV19   CASSIFSTPNQPQHF  TRBJ01-05   GILGFVFTL\n",
       "22584     TRBV19       CATGFPYEQYF  TRBJ02-07   GILGFVFTL\n",
       "22585     TRBV19     CASSIYSNTEAFF  TRBJ01-01   GILGFVFTL\n",
       "22586     TRBV19     CASSGRSNTEAFF  TRBJ01-01   GILGFVFTL\n",
       "22587     TRBV19    CASSITSSYNEQFF  TRBJ02-01   GILGFVFTL\n",
       "\n",
       "[22588 rows x 4 columns]"
      ]
     },
     "execution_count": 2,
     "metadata": {},
     "output_type": "execute_result"
    }
   ],
   "source": [
    "data = pd.read_csv('./results/generation_prob/true_repertoires/tcrex_pgen_data.csv')\n",
    "data"
   ]
  },
  {
   "cell_type": "markdown",
   "metadata": {},
   "source": [
    "### Link the clusters together by generating new TCRs"
   ]
  },
  {
   "cell_type": "code",
   "execution_count": 3,
   "metadata": {},
   "outputs": [
    {
     "name": "stderr",
     "output_type": "stream",
     "text": [
      "/Users/sofiegielis/miniconda3/envs/external_support/lib/python3.6/site-packages/plotnine/ggplot.py:721: PlotnineWarning: Saving 10 x 8 in image.\n",
      "/Users/sofiegielis/miniconda3/envs/external_support/lib/python3.6/site-packages/plotnine/ggplot.py:722: PlotnineWarning: Filename: ./results/pgen/true_repertoires/link_clusters/FVDGVPFVV.png\n",
      "/Users/sofiegielis/miniconda3/envs/external_support/lib/python3.6/site-packages/plotnine/layer.py:324: PlotnineWarning: stat_boxplot : Removed 1 rows containing non-finite values.\n",
      "/Users/sofiegielis/miniconda3/envs/external_support/lib/python3.6/site-packages/plotnine/ggplot.py:721: PlotnineWarning: Saving 10 x 8 in image.\n",
      "/Users/sofiegielis/miniconda3/envs/external_support/lib/python3.6/site-packages/plotnine/ggplot.py:722: PlotnineWarning: Filename: ./results/pgen/true_repertoires/link_clusters/KLSYGIATV.png\n",
      "/Users/sofiegielis/miniconda3/envs/external_support/lib/python3.6/site-packages/plotnine/ggplot.py:721: PlotnineWarning: Saving 10 x 8 in image.\n",
      "/Users/sofiegielis/miniconda3/envs/external_support/lib/python3.6/site-packages/plotnine/ggplot.py:722: PlotnineWarning: Filename: ./results/pgen/true_repertoires/link_clusters/GILGFVFTL.png\n",
      "/Users/sofiegielis/miniconda3/envs/external_support/lib/python3.6/site-packages/plotnine/layer.py:324: PlotnineWarning: stat_boxplot : Removed 4 rows containing non-finite values.\n",
      "/Users/sofiegielis/miniconda3/envs/external_support/lib/python3.6/site-packages/plotnine/ggplot.py:721: PlotnineWarning: Saving 10 x 8 in image.\n",
      "/Users/sofiegielis/miniconda3/envs/external_support/lib/python3.6/site-packages/plotnine/ggplot.py:722: PlotnineWarning: Filename: ./results/pgen/true_repertoires/link_clusters/HTTDPSFLGRY.png\n",
      "/Users/sofiegielis/miniconda3/envs/external_support/lib/python3.6/site-packages/plotnine/ggplot.py:721: PlotnineWarning: Saving 10 x 8 in image.\n",
      "/Users/sofiegielis/miniconda3/envs/external_support/lib/python3.6/site-packages/plotnine/ggplot.py:722: PlotnineWarning: Filename: ./results/pgen/true_repertoires/link_clusters/KLPDDFTGCV.png\n",
      "/Users/sofiegielis/miniconda3/envs/external_support/lib/python3.6/site-packages/plotnine/ggplot.py:721: PlotnineWarning: Saving 10 x 8 in image.\n",
      "/Users/sofiegielis/miniconda3/envs/external_support/lib/python3.6/site-packages/plotnine/ggplot.py:722: PlotnineWarning: Filename: ./results/pgen/true_repertoires/link_clusters/NLVPMVATV.png\n",
      "/Users/sofiegielis/miniconda3/envs/external_support/lib/python3.6/site-packages/plotnine/layer.py:324: PlotnineWarning: stat_boxplot : Removed 4 rows containing non-finite values.\n",
      "/Users/sofiegielis/miniconda3/envs/external_support/lib/python3.6/site-packages/plotnine/ggplot.py:721: PlotnineWarning: Saving 10 x 8 in image.\n",
      "/Users/sofiegielis/miniconda3/envs/external_support/lib/python3.6/site-packages/plotnine/ggplot.py:722: PlotnineWarning: Filename: ./results/pgen/true_repertoires/link_clusters/LPRRSGAAGA.png\n",
      "/Users/sofiegielis/miniconda3/envs/external_support/lib/python3.6/site-packages/plotnine/ggplot.py:721: PlotnineWarning: Saving 10 x 8 in image.\n",
      "/Users/sofiegielis/miniconda3/envs/external_support/lib/python3.6/site-packages/plotnine/ggplot.py:722: PlotnineWarning: Filename: ./results/pgen/true_repertoires/link_clusters/FLNGSCGSV.png\n"
     ]
    }
   ],
   "source": [
    "gpd.connect_clusters(data, 'true_repertoires')"
   ]
  },
  {
   "cell_type": "markdown",
   "metadata": {},
   "source": [
    "# Generation probability distribution in simulated repertoires"
   ]
  },
  {
   "cell_type": "markdown",
   "metadata": {},
   "source": [
    "### Read in the simulated repertoires"
   ]
  },
  {
   "cell_type": "code",
   "execution_count": 4,
   "metadata": {},
   "outputs": [
    {
     "data": {
      "text/html": [
       "<div>\n",
       "<style scoped>\n",
       "    .dataframe tbody tr th:only-of-type {\n",
       "        vertical-align: middle;\n",
       "    }\n",
       "\n",
       "    .dataframe tbody tr th {\n",
       "        vertical-align: top;\n",
       "    }\n",
       "\n",
       "    .dataframe thead th {\n",
       "        text-align: right;\n",
       "    }\n",
       "</style>\n",
       "<table border=\"1\" class=\"dataframe\">\n",
       "  <thead>\n",
       "    <tr style=\"text-align: right;\">\n",
       "      <th></th>\n",
       "      <th>v_call</th>\n",
       "      <th>j_call</th>\n",
       "      <th>junction_aa</th>\n",
       "      <th>epitope</th>\n",
       "    </tr>\n",
       "  </thead>\n",
       "  <tbody>\n",
       "    <tr>\n",
       "      <th>0</th>\n",
       "      <td>TRBV7-3*01</td>\n",
       "      <td>TRBJ1-1*01</td>\n",
       "      <td>CASSTWTGGKSEAFF</td>\n",
       "      <td>simulation1</td>\n",
       "    </tr>\n",
       "    <tr>\n",
       "      <th>1</th>\n",
       "      <td>TRBV10-1*02</td>\n",
       "      <td>TRBJ2-7*01</td>\n",
       "      <td>CASSGSKTGEPHEQYF</td>\n",
       "      <td>simulation1</td>\n",
       "    </tr>\n",
       "    <tr>\n",
       "      <th>2</th>\n",
       "      <td>TRBV6-6*01</td>\n",
       "      <td>TRBJ2-1*01</td>\n",
       "      <td>CASSYWAGETHEQFF</td>\n",
       "      <td>simulation1</td>\n",
       "    </tr>\n",
       "    <tr>\n",
       "      <th>3</th>\n",
       "      <td>TRBV6-6*02</td>\n",
       "      <td>TRBJ1-4*01</td>\n",
       "      <td>CASILWTGEHNEKLFF</td>\n",
       "      <td>simulation1</td>\n",
       "    </tr>\n",
       "    <tr>\n",
       "      <th>4</th>\n",
       "      <td>TRBV9*01</td>\n",
       "      <td>TRBJ2-7*01</td>\n",
       "      <td>CASSHWTGENYEQYF</td>\n",
       "      <td>simulation1</td>\n",
       "    </tr>\n",
       "    <tr>\n",
       "      <th>...</th>\n",
       "      <td>...</td>\n",
       "      <td>...</td>\n",
       "      <td>...</td>\n",
       "      <td>...</td>\n",
       "    </tr>\n",
       "    <tr>\n",
       "      <th>21571</th>\n",
       "      <td>TRBV6-5*01</td>\n",
       "      <td>TRBJ2-7*01</td>\n",
       "      <td>CASKPPGLAGGSYEQYF</td>\n",
       "      <td>simulation8</td>\n",
       "    </tr>\n",
       "    <tr>\n",
       "      <th>21572</th>\n",
       "      <td>TRBV10-1*02</td>\n",
       "      <td>TRBJ2-7*01</td>\n",
       "      <td>CASRALAGGGYEQYF</td>\n",
       "      <td>simulation8</td>\n",
       "    </tr>\n",
       "    <tr>\n",
       "      <th>21573</th>\n",
       "      <td>TRBV18*01</td>\n",
       "      <td>TRBJ2-7*01</td>\n",
       "      <td>CASSPGLAGAPHEQYF</td>\n",
       "      <td>simulation8</td>\n",
       "    </tr>\n",
       "    <tr>\n",
       "      <th>21574</th>\n",
       "      <td>TRBV4-2*01</td>\n",
       "      <td>TRBJ2-7*01</td>\n",
       "      <td>CASSRLAGGCYEQYF</td>\n",
       "      <td>simulation8</td>\n",
       "    </tr>\n",
       "    <tr>\n",
       "      <th>21575</th>\n",
       "      <td>TRBV20-1*01</td>\n",
       "      <td>TRBJ2-5*01</td>\n",
       "      <td>CTVPGLAGGPRETQYF</td>\n",
       "      <td>simulation8</td>\n",
       "    </tr>\n",
       "  </tbody>\n",
       "</table>\n",
       "<p>21576 rows × 4 columns</p>\n",
       "</div>"
      ],
      "text/plain": [
       "            v_call      j_call        junction_aa      epitope\n",
       "0       TRBV7-3*01  TRBJ1-1*01    CASSTWTGGKSEAFF  simulation1\n",
       "1      TRBV10-1*02  TRBJ2-7*01   CASSGSKTGEPHEQYF  simulation1\n",
       "2       TRBV6-6*01  TRBJ2-1*01    CASSYWAGETHEQFF  simulation1\n",
       "3       TRBV6-6*02  TRBJ1-4*01   CASILWTGEHNEKLFF  simulation1\n",
       "4         TRBV9*01  TRBJ2-7*01    CASSHWTGENYEQYF  simulation1\n",
       "...            ...         ...                ...          ...\n",
       "21571   TRBV6-5*01  TRBJ2-7*01  CASKPPGLAGGSYEQYF  simulation8\n",
       "21572  TRBV10-1*02  TRBJ2-7*01    CASRALAGGGYEQYF  simulation8\n",
       "21573    TRBV18*01  TRBJ2-7*01   CASSPGLAGAPHEQYF  simulation8\n",
       "21574   TRBV4-2*01  TRBJ2-7*01    CASSRLAGGCYEQYF  simulation8\n",
       "21575  TRBV20-1*01  TRBJ2-5*01   CTVPGLAGGPRETQYF  simulation8\n",
       "\n",
       "[21576 rows x 4 columns]"
      ]
     },
     "execution_count": 4,
     "metadata": {},
     "output_type": "execute_result"
    }
   ],
   "source": [
    "data = pd.read_csv('./results/generation_prob/simulated_repertoires/all_data.csv')\n",
    "data = data[['v_call', 'j_call', 'junction_aa', 'epitope']]\n",
    "data"
   ]
  },
  {
   "cell_type": "markdown",
   "metadata": {},
   "source": [
    "### Link the clusters together by generating new TCRs"
   ]
  },
  {
   "cell_type": "code",
   "execution_count": 5,
   "metadata": {},
   "outputs": [
    {
     "name": "stderr",
     "output_type": "stream",
     "text": [
      "/Users/sofiegielis/miniconda3/envs/external_support/lib/python3.6/site-packages/plotnine/ggplot.py:721: PlotnineWarning: Saving 10 x 8 in image.\n",
      "/Users/sofiegielis/miniconda3/envs/external_support/lib/python3.6/site-packages/plotnine/ggplot.py:722: PlotnineWarning: Filename: ./results/pgen/simulated_repertoires/link_clusters/simulation1.png\n",
      "/Users/sofiegielis/miniconda3/envs/external_support/lib/python3.6/site-packages/plotnine/ggplot.py:721: PlotnineWarning: Saving 10 x 8 in image.\n",
      "/Users/sofiegielis/miniconda3/envs/external_support/lib/python3.6/site-packages/plotnine/ggplot.py:722: PlotnineWarning: Filename: ./results/pgen/simulated_repertoires/link_clusters/simulation8.png\n",
      "/Users/sofiegielis/miniconda3/envs/external_support/lib/python3.6/site-packages/plotnine/layer.py:324: PlotnineWarning: stat_boxplot : Removed 2 rows containing non-finite values.\n",
      "/Users/sofiegielis/miniconda3/envs/external_support/lib/python3.6/site-packages/plotnine/ggplot.py:721: PlotnineWarning: Saving 10 x 8 in image.\n",
      "/Users/sofiegielis/miniconda3/envs/external_support/lib/python3.6/site-packages/plotnine/ggplot.py:722: PlotnineWarning: Filename: ./results/pgen/simulated_repertoires/link_clusters/simulation2.png\n",
      "/Users/sofiegielis/miniconda3/envs/external_support/lib/python3.6/site-packages/plotnine/ggplot.py:721: PlotnineWarning: Saving 10 x 8 in image.\n",
      "/Users/sofiegielis/miniconda3/envs/external_support/lib/python3.6/site-packages/plotnine/ggplot.py:722: PlotnineWarning: Filename: ./results/pgen/simulated_repertoires/link_clusters/simulation4.png\n",
      "/Users/sofiegielis/miniconda3/envs/external_support/lib/python3.6/site-packages/plotnine/ggplot.py:721: PlotnineWarning: Saving 10 x 8 in image.\n",
      "/Users/sofiegielis/miniconda3/envs/external_support/lib/python3.6/site-packages/plotnine/ggplot.py:722: PlotnineWarning: Filename: ./results/pgen/simulated_repertoires/link_clusters/simulation3.png\n",
      "/Users/sofiegielis/miniconda3/envs/external_support/lib/python3.6/site-packages/plotnine/layer.py:324: PlotnineWarning: stat_boxplot : Removed 8 rows containing non-finite values.\n",
      "/Users/sofiegielis/miniconda3/envs/external_support/lib/python3.6/site-packages/plotnine/ggplot.py:721: PlotnineWarning: Saving 10 x 8 in image.\n",
      "/Users/sofiegielis/miniconda3/envs/external_support/lib/python3.6/site-packages/plotnine/ggplot.py:722: PlotnineWarning: Filename: ./results/pgen/simulated_repertoires/link_clusters/simulation6.png\n",
      "/Users/sofiegielis/miniconda3/envs/external_support/lib/python3.6/site-packages/plotnine/ggplot.py:721: PlotnineWarning: Saving 10 x 8 in image.\n",
      "/Users/sofiegielis/miniconda3/envs/external_support/lib/python3.6/site-packages/plotnine/ggplot.py:722: PlotnineWarning: Filename: ./results/pgen/simulated_repertoires/link_clusters/simulation5.png\n",
      "/Users/sofiegielis/miniconda3/envs/external_support/lib/python3.6/site-packages/plotnine/ggplot.py:721: PlotnineWarning: Saving 10 x 8 in image.\n",
      "/Users/sofiegielis/miniconda3/envs/external_support/lib/python3.6/site-packages/plotnine/ggplot.py:722: PlotnineWarning: Filename: ./results/pgen/simulated_repertoires/link_clusters/simulation7.png\n"
     ]
    }
   ],
   "source": [
    "gpd.connect_clusters(data, 'simulated_repertoires')"
   ]
  },
  {
   "cell_type": "code",
   "execution_count": null,
   "metadata": {},
   "outputs": [],
   "source": []
  }
 ],
 "metadata": {
  "kernelspec": {
   "display_name": "Python [conda env:external_support]",
   "language": "python",
   "name": "conda-env-external_support-py"
  },
  "language_info": {
   "codemirror_mode": {
    "name": "ipython",
    "version": 3
   },
   "file_extension": ".py",
   "mimetype": "text/x-python",
   "name": "python",
   "nbconvert_exporter": "python",
   "pygments_lexer": "ipython3",
   "version": "3.6.10"
  }
 },
 "nbformat": 4,
 "nbformat_minor": 2
}
