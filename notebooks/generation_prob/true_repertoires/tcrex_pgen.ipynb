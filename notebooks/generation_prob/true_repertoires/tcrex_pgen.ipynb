{
 "cells": [
  {
   "cell_type": "markdown",
   "metadata": {},
   "source": [
    "# Generation probability distribution in true repertoires"
   ]
  },
  {
   "cell_type": "code",
   "execution_count": 1,
   "metadata": {},
   "outputs": [],
   "source": [
    "# Imports\n",
    "import os\n",
    "import re\n",
    "import numpy as np\n",
    "import pandas as pd\n",
    "\n",
    "os.chdir('path_to_your_dir/generation_prob')\n",
    "import gen_prob_distributions as gpd\n",
    "\n",
    "# Set directory\n",
    "os.chdir('path_to_your_dir')\n"
   ]
  },
  {
   "cell_type": "markdown",
   "metadata": {},
   "source": [
    "## Read TCRex data"
   ]
  },
  {
   "cell_type": "code",
   "execution_count": 2,
   "metadata": {},
   "outputs": [
    {
     "data": {
      "text/html": [
       "<div>\n",
       "<style scoped>\n",
       "    .dataframe tbody tr th:only-of-type {\n",
       "        vertical-align: middle;\n",
       "    }\n",
       "\n",
       "    .dataframe tbody tr th {\n",
       "        vertical-align: top;\n",
       "    }\n",
       "\n",
       "    .dataframe thead th {\n",
       "        text-align: right;\n",
       "    }\n",
       "</style>\n",
       "<table border=\"1\" class=\"dataframe\">\n",
       "  <thead>\n",
       "    <tr style=\"text-align: right;\">\n",
       "      <th></th>\n",
       "      <th>v_call</th>\n",
       "      <th>junction_aa</th>\n",
       "      <th>j_call</th>\n",
       "      <th>epitope</th>\n",
       "    </tr>\n",
       "  </thead>\n",
       "  <tbody>\n",
       "    <tr>\n",
       "      <th>0</th>\n",
       "      <td>TRBV07-06</td>\n",
       "      <td>CASSLARGVLMNTEAFF</td>\n",
       "      <td>TRBJ01-01</td>\n",
       "      <td>TVYDPLQPELDSFK</td>\n",
       "    </tr>\n",
       "    <tr>\n",
       "      <th>1</th>\n",
       "      <td>TRBV10-02</td>\n",
       "      <td>CASSKGSTEAFF</td>\n",
       "      <td>TRBJ01-01</td>\n",
       "      <td>TVYDPLQPELDSFK</td>\n",
       "    </tr>\n",
       "    <tr>\n",
       "      <th>2</th>\n",
       "      <td>TRBV27</td>\n",
       "      <td>CASSLMGGSSYEQYF</td>\n",
       "      <td>TRBJ02-07</td>\n",
       "      <td>TVYDPLQPELDSFK</td>\n",
       "    </tr>\n",
       "    <tr>\n",
       "      <th>3</th>\n",
       "      <td>TRBV07-02</td>\n",
       "      <td>CASSLVLASYEQYF</td>\n",
       "      <td>TRBJ02-07</td>\n",
       "      <td>TVYDPLQPELDSFK</td>\n",
       "    </tr>\n",
       "    <tr>\n",
       "      <th>4</th>\n",
       "      <td>TRBV04-01</td>\n",
       "      <td>CASSLMAGPGNIQYF</td>\n",
       "      <td>TRBJ02-04</td>\n",
       "      <td>TVYDPLQPELDSFK</td>\n",
       "    </tr>\n",
       "    <tr>\n",
       "      <th>...</th>\n",
       "      <td>...</td>\n",
       "      <td>...</td>\n",
       "      <td>...</td>\n",
       "      <td>...</td>\n",
       "    </tr>\n",
       "    <tr>\n",
       "      <th>44192</th>\n",
       "      <td>TRBV04-02</td>\n",
       "      <td>CASSQDSGQIDTGELFF</td>\n",
       "      <td>TRBJ02-02</td>\n",
       "      <td>ALSKGVHFV</td>\n",
       "    </tr>\n",
       "    <tr>\n",
       "      <th>44193</th>\n",
       "      <td>TRBV27</td>\n",
       "      <td>CASSLSGGWAGGLEQYF</td>\n",
       "      <td>TRBJ02-07</td>\n",
       "      <td>ALSKGVHFV</td>\n",
       "    </tr>\n",
       "    <tr>\n",
       "      <th>44194</th>\n",
       "      <td>TRBV27</td>\n",
       "      <td>CASSLSGTYYEQYF</td>\n",
       "      <td>TRBJ02-07</td>\n",
       "      <td>ALSKGVHFV</td>\n",
       "    </tr>\n",
       "    <tr>\n",
       "      <th>44195</th>\n",
       "      <td>TRBV27</td>\n",
       "      <td>CASSISVYSPLHF</td>\n",
       "      <td>TRBJ01-06</td>\n",
       "      <td>ALSKGVHFV</td>\n",
       "    </tr>\n",
       "    <tr>\n",
       "      <th>44196</th>\n",
       "      <td>TRBV27</td>\n",
       "      <td>CASSSGTGVTEAFF</td>\n",
       "      <td>TRBJ01-01</td>\n",
       "      <td>ALSKGVHFV</td>\n",
       "    </tr>\n",
       "  </tbody>\n",
       "</table>\n",
       "<p>43289 rows × 4 columns</p>\n",
       "</div>"
      ],
      "text/plain": [
       "          v_call        junction_aa     j_call         epitope\n",
       "0      TRBV07-06  CASSLARGVLMNTEAFF  TRBJ01-01  TVYDPLQPELDSFK\n",
       "1      TRBV10-02       CASSKGSTEAFF  TRBJ01-01  TVYDPLQPELDSFK\n",
       "2         TRBV27    CASSLMGGSSYEQYF  TRBJ02-07  TVYDPLQPELDSFK\n",
       "3      TRBV07-02     CASSLVLASYEQYF  TRBJ02-07  TVYDPLQPELDSFK\n",
       "4      TRBV04-01    CASSLMAGPGNIQYF  TRBJ02-04  TVYDPLQPELDSFK\n",
       "...          ...                ...        ...             ...\n",
       "44192  TRBV04-02  CASSQDSGQIDTGELFF  TRBJ02-02       ALSKGVHFV\n",
       "44193     TRBV27  CASSLSGGWAGGLEQYF  TRBJ02-07       ALSKGVHFV\n",
       "44194     TRBV27     CASSLSGTYYEQYF  TRBJ02-07       ALSKGVHFV\n",
       "44195     TRBV27      CASSISVYSPLHF  TRBJ01-06       ALSKGVHFV\n",
       "44196     TRBV27     CASSSGTGVTEAFF  TRBJ01-01       ALSKGVHFV\n",
       "\n",
       "[43289 rows x 4 columns]"
      ]
     },
     "execution_count": 2,
     "metadata": {},
     "output_type": "execute_result"
    }
   ],
   "source": [
    "# Read in all epitope-specific TCRs parsed by TCRex\n",
    "# df may not contain , in epitopes: every tcr-epitope should take one row \n",
    "data = pd.read_csv('./data/final/all_tcrs.tsv')\n",
    "\n",
    "# Remove duplicated CDR3 beta sequence-epitope combinations\n",
    "data = data.drop_duplicates(subset=['junction_aa','epitope'])\n",
    "data"
   ]
  },
  {
   "cell_type": "code",
   "execution_count": 3,
   "metadata": {},
   "outputs": [],
   "source": [
    "# Select the 8 epitopes with the most data\n",
    "sizes = data.groupby('epitope').size().reset_index().sort_values(by=0, ascending=False)\n",
    "epitopes = sizes[0:8]['epitope'].tolist()\n",
    "data = data[data['epitope'].isin(epitopes)]"
   ]
  },
  {
   "cell_type": "code",
   "execution_count": 4,
   "metadata": {},
   "outputs": [
    {
     "name": "stdout",
     "output_type": "stream",
     "text": [
      "(22646, 5)\n",
      "(22588, 5)\n"
     ]
    },
    {
     "name": "stderr",
     "output_type": "stream",
     "text": [
      "/Users/sofiegielis/miniconda3/envs/external_support/lib/python3.6/site-packages/ipykernel_launcher.py:2: SettingWithCopyWarning: \n",
      "A value is trying to be set on a copy of a slice from a DataFrame.\n",
      "Try using .loc[row_indexer,col_indexer] = value instead\n",
      "\n",
      "See the caveats in the documentation: https://pandas.pydata.org/pandas-docs/stable/user_guide/indexing.html#returning-a-view-versus-a-copy\n"
     ]
    }
   ],
   "source": [
    "# Calculate p gen and remove those with p_gen ==0\n",
    "data['p_gen'] = data['junction_aa'].apply(lambda x: gpd.calculate_p_gen(x))\n",
    "print(data.shape)\n",
    "data = data[data['p_gen']!=0]\n",
    "print(data.shape)"
   ]
  },
  {
   "cell_type": "code",
   "execution_count": 5,
   "metadata": {},
   "outputs": [],
   "source": [
    "data = data[['v_call', 'junction_aa', 'j_call', 'epitope']]\n",
    "data.to_csv('./results/generation_prob/true_repertoires/tcrex_pgen_data.csv', \n",
    "            index=False, float_format='%.8f')"
   ]
  },
  {
   "cell_type": "code",
   "execution_count": null,
   "metadata": {},
   "outputs": [],
   "source": []
  }
 ],
 "metadata": {
  "kernelspec": {
   "display_name": "Python [conda env:external_support]",
   "language": "python",
   "name": "conda-env-external_support-py"
  },
  "language_info": {
   "codemirror_mode": {
    "name": "ipython",
    "version": 3
   },
   "file_extension": ".py",
   "mimetype": "text/x-python",
   "name": "python",
   "nbconvert_exporter": "python",
   "pygments_lexer": "ipython3",
   "version": "3.6.10"
  }
 },
 "nbformat": 4,
 "nbformat_minor": 2
}
