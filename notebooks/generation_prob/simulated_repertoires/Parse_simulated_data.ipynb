{
 "cells": [
  {
   "cell_type": "markdown",
   "id": "de1affda",
   "metadata": {},
   "source": [
    "# Collect all simulated data into one df"
   ]
  },
  {
   "cell_type": "code",
   "execution_count": 1,
   "id": "b4cf3f35",
   "metadata": {},
   "outputs": [],
   "source": [
    "# Imports\n",
    "import os\n",
    "\n",
    "import pandas as pd\n",
    "\n",
    "os.chdir('path_to_your_dir/generation_prob')\n",
    "import gen_prob_distributions as gpd\n",
    "\n",
    "# Set directory\n",
    "os.chdir('path_to_your_dir')"
   ]
  },
  {
   "cell_type": "code",
   "execution_count": 2,
   "id": "60e63704",
   "metadata": {},
   "outputs": [],
   "source": [
    "# Simulated data\n",
    "simulations = ['simulation1','simulation2','simulation3',\n",
    "               'simulation4','simulation5','simulation6',\n",
    "               'simulation7','simulation8']\n",
    "\n",
    "all_data = pd.DataFrame()\n",
    "\n",
    "for simulation in simulations:\n",
    "    \n",
    "    # Read in simulated TCR data\n",
    "    data = pd.read_csv(('./results/ligo_simulations_one_seed/'+simulation+'/results/inst1/exported_dataset/airr/batch1.tsv'),sep='\\t')\n",
    "    \n",
    "    # Remove duplicated CDR3 beta sequence-signal combinations\n",
    "    data = data.drop_duplicates(subset=['junction_aa','signals_aggregated'])\n",
    "    \n",
    "    # Collect data from all simulations in one df\n",
    "    data['simulation'] = simulation\n",
    "    all_data = pd.concat([all_data,data])\n",
    "    \n",
    "# Add epitope column to the table    \n",
    "all_data['epitope'] = all_data['simulation']"
   ]
  },
  {
   "cell_type": "code",
   "execution_count": 3,
   "id": "f6d4f531",
   "metadata": {},
   "outputs": [],
   "source": [
    "all_data = all_data[['v_call', 'j_call',\n",
    "                     'junction_aa','epitope']]\n"
   ]
  },
  {
   "cell_type": "code",
   "execution_count": 4,
   "id": "47ab288a",
   "metadata": {},
   "outputs": [
    {
     "data": {
      "text/html": [
       "<div>\n",
       "<style scoped>\n",
       "    .dataframe tbody tr th:only-of-type {\n",
       "        vertical-align: middle;\n",
       "    }\n",
       "\n",
       "    .dataframe tbody tr th {\n",
       "        vertical-align: top;\n",
       "    }\n",
       "\n",
       "    .dataframe thead th {\n",
       "        text-align: right;\n",
       "    }\n",
       "</style>\n",
       "<table border=\"1\" class=\"dataframe\">\n",
       "  <thead>\n",
       "    <tr style=\"text-align: right;\">\n",
       "      <th></th>\n",
       "      <th>v_call</th>\n",
       "      <th>j_call</th>\n",
       "      <th>junction_aa</th>\n",
       "      <th>epitope</th>\n",
       "    </tr>\n",
       "  </thead>\n",
       "  <tbody>\n",
       "    <tr>\n",
       "      <th>0</th>\n",
       "      <td>TRBV7-3*01</td>\n",
       "      <td>TRBJ1-1*01</td>\n",
       "      <td>CASSTWTGGKSEAFF</td>\n",
       "      <td>simulation1</td>\n",
       "    </tr>\n",
       "    <tr>\n",
       "      <th>1</th>\n",
       "      <td>TRBV10-1*02</td>\n",
       "      <td>TRBJ2-7*01</td>\n",
       "      <td>CASSGSKTGEPHEQYF</td>\n",
       "      <td>simulation1</td>\n",
       "    </tr>\n",
       "    <tr>\n",
       "      <th>2</th>\n",
       "      <td>TRBV6-6*01</td>\n",
       "      <td>TRBJ2-1*01</td>\n",
       "      <td>CASSYWAGETHEQFF</td>\n",
       "      <td>simulation1</td>\n",
       "    </tr>\n",
       "    <tr>\n",
       "      <th>3</th>\n",
       "      <td>TRBV6-6*02</td>\n",
       "      <td>TRBJ1-4*01</td>\n",
       "      <td>CASILWTGEHNEKLFF</td>\n",
       "      <td>simulation1</td>\n",
       "    </tr>\n",
       "    <tr>\n",
       "      <th>4</th>\n",
       "      <td>TRBV9*01</td>\n",
       "      <td>TRBJ2-7*01</td>\n",
       "      <td>CASSHWTGENYEQYF</td>\n",
       "      <td>simulation1</td>\n",
       "    </tr>\n",
       "    <tr>\n",
       "      <th>...</th>\n",
       "      <td>...</td>\n",
       "      <td>...</td>\n",
       "      <td>...</td>\n",
       "      <td>...</td>\n",
       "    </tr>\n",
       "    <tr>\n",
       "      <th>2995</th>\n",
       "      <td>TRBV6-5*01</td>\n",
       "      <td>TRBJ2-7*01</td>\n",
       "      <td>CASKPPGLAGGSYEQYF</td>\n",
       "      <td>simulation8</td>\n",
       "    </tr>\n",
       "    <tr>\n",
       "      <th>2996</th>\n",
       "      <td>TRBV10-1*02</td>\n",
       "      <td>TRBJ2-7*01</td>\n",
       "      <td>CASRALAGGGYEQYF</td>\n",
       "      <td>simulation8</td>\n",
       "    </tr>\n",
       "    <tr>\n",
       "      <th>2997</th>\n",
       "      <td>TRBV18*01</td>\n",
       "      <td>TRBJ2-7*01</td>\n",
       "      <td>CASSPGLAGAPHEQYF</td>\n",
       "      <td>simulation8</td>\n",
       "    </tr>\n",
       "    <tr>\n",
       "      <th>2998</th>\n",
       "      <td>TRBV4-2*01</td>\n",
       "      <td>TRBJ2-7*01</td>\n",
       "      <td>CASSRLAGGCYEQYF</td>\n",
       "      <td>simulation8</td>\n",
       "    </tr>\n",
       "    <tr>\n",
       "      <th>2999</th>\n",
       "      <td>TRBV20-1*01</td>\n",
       "      <td>TRBJ2-5*01</td>\n",
       "      <td>CTVPGLAGGPRETQYF</td>\n",
       "      <td>simulation8</td>\n",
       "    </tr>\n",
       "  </tbody>\n",
       "</table>\n",
       "<p>21576 rows × 4 columns</p>\n",
       "</div>"
      ],
      "text/plain": [
       "           v_call      j_call        junction_aa      epitope\n",
       "0      TRBV7-3*01  TRBJ1-1*01    CASSTWTGGKSEAFF  simulation1\n",
       "1     TRBV10-1*02  TRBJ2-7*01   CASSGSKTGEPHEQYF  simulation1\n",
       "2      TRBV6-6*01  TRBJ2-1*01    CASSYWAGETHEQFF  simulation1\n",
       "3      TRBV6-6*02  TRBJ1-4*01   CASILWTGEHNEKLFF  simulation1\n",
       "4        TRBV9*01  TRBJ2-7*01    CASSHWTGENYEQYF  simulation1\n",
       "...           ...         ...                ...          ...\n",
       "2995   TRBV6-5*01  TRBJ2-7*01  CASKPPGLAGGSYEQYF  simulation8\n",
       "2996  TRBV10-1*02  TRBJ2-7*01    CASRALAGGGYEQYF  simulation8\n",
       "2997    TRBV18*01  TRBJ2-7*01   CASSPGLAGAPHEQYF  simulation8\n",
       "2998   TRBV4-2*01  TRBJ2-7*01    CASSRLAGGCYEQYF  simulation8\n",
       "2999  TRBV20-1*01  TRBJ2-5*01   CTVPGLAGGPRETQYF  simulation8\n",
       "\n",
       "[21576 rows x 4 columns]"
      ]
     },
     "execution_count": 4,
     "metadata": {},
     "output_type": "execute_result"
    }
   ],
   "source": [
    "all_data"
   ]
  },
  {
   "cell_type": "code",
   "execution_count": 5,
   "id": "31ec1fc2",
   "metadata": {},
   "outputs": [
    {
     "name": "stdout",
     "output_type": "stream",
     "text": [
      "(21576, 5)\n",
      "(21576, 5)\n"
     ]
    }
   ],
   "source": [
    "# Calculate p gen\n",
    "all_data['p_gen'] = all_data['junction_aa'].apply(lambda x: gpd.calculate_p_gen(x))\n",
    "print(all_data.shape)\n",
    "all_data = all_data[all_data['p_gen']!=0]\n",
    "print(all_data.shape)"
   ]
  },
  {
   "cell_type": "code",
   "execution_count": 6,
   "id": "c25c27a8",
   "metadata": {},
   "outputs": [],
   "source": [
    "all_data.to_csv('./notebooks/paper/generation_prob/simulated_repertoires/all_data.csv', \n",
    "            index=False)"
   ]
  },
  {
   "cell_type": "code",
   "execution_count": null,
   "id": "e8c7eaaf",
   "metadata": {},
   "outputs": [],
   "source": []
  }
 ],
 "metadata": {
  "kernelspec": {
   "display_name": "Python [conda env:external_support]",
   "language": "python",
   "name": "conda-env-external_support-py"
  },
  "language_info": {
   "codemirror_mode": {
    "name": "ipython",
    "version": 3
   },
   "file_extension": ".py",
   "mimetype": "text/x-python",
   "name": "python",
   "nbconvert_exporter": "python",
   "pygments_lexer": "ipython3",
   "version": "3.6.10"
  }
 },
 "nbformat": 4,
 "nbformat_minor": 5
}
