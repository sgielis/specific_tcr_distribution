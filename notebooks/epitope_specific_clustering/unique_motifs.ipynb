{
 "cells": [
  {
   "cell_type": "markdown",
   "metadata": {},
   "source": [
    "# Investigation of the epitope-specific motifs"
   ]
  },
  {
   "cell_type": "code",
   "execution_count": 1,
   "metadata": {},
   "outputs": [
    {
     "name": "stderr",
     "output_type": "stream",
     "text": [
      "/var/folders/h1/5mmv2z5n7xz9rwls3g_gr7580000gn/T/ipykernel_3371/1953140849.py:4: DeprecationWarning: \n",
      "Pyarrow will become a required dependency of pandas in the next major release of pandas (pandas 3.0),\n",
      "(to allow more performant data types, such as the Arrow string type, and better interoperability with other libraries)\n",
      "but was not found to be installed on your system.\n",
      "If this would cause problems for you,\n",
      "please provide us feedback at https://github.com/pandas-dev/pandas/issues/54466\n",
      "        \n",
      "  import pandas as pd\n"
     ]
    }
   ],
   "source": [
    "# Imports\n",
    "import os\n",
    "\n",
    "import pandas as pd\n",
    "\n",
    "# Set directory\n",
    "os.chdir('path_to_your_dir')\n"
   ]
  },
  {
   "cell_type": "markdown",
   "metadata": {},
   "source": [
    "### Read in cluster results"
   ]
  },
  {
   "cell_type": "code",
   "execution_count": 2,
   "metadata": {},
   "outputs": [
    {
     "data": {
      "text/html": [
       "<div>\n",
       "<style scoped>\n",
       "    .dataframe tbody tr th:only-of-type {\n",
       "        vertical-align: middle;\n",
       "    }\n",
       "\n",
       "    .dataframe tbody tr th {\n",
       "        vertical-align: top;\n",
       "    }\n",
       "\n",
       "    .dataframe thead th {\n",
       "        text-align: right;\n",
       "    }\n",
       "</style>\n",
       "<table border=\"1\" class=\"dataframe\">\n",
       "  <thead>\n",
       "    <tr style=\"text-align: right;\">\n",
       "      <th></th>\n",
       "      <th>cluster</th>\n",
       "      <th>size</th>\n",
       "      <th>motif</th>\n",
       "      <th>clustcr_motif</th>\n",
       "      <th>junction_aa</th>\n",
       "      <th>epitope</th>\n",
       "    </tr>\n",
       "  </thead>\n",
       "  <tbody>\n",
       "    <tr>\n",
       "      <th>0</th>\n",
       "      <td>0</td>\n",
       "      <td>2</td>\n",
       "      <td>CASSXALSYNEQFF</td>\n",
       "      <td>CASS[FG]ALSYNEQFF</td>\n",
       "      <td>CASSFALSYNEQFF, CASSGALSYNEQFF</td>\n",
       "      <td>ITEEVGHTDLMAAY</td>\n",
       "    </tr>\n",
       "    <tr>\n",
       "      <th>1</th>\n",
       "      <td>1</td>\n",
       "      <td>4</td>\n",
       "      <td>CASSLVXDSSYNEQFF</td>\n",
       "      <td>CASSLVsDSSYNEQFF</td>\n",
       "      <td>CASSLVSDSSYNEQFF, CASSLVTDSSYNEQFF, CASSLASDSS...</td>\n",
       "      <td>ITEEVGHTDLMAAY</td>\n",
       "    </tr>\n",
       "    <tr>\n",
       "      <th>2</th>\n",
       "      <td>2</td>\n",
       "      <td>2</td>\n",
       "      <td>CASSLGXNTEAFF</td>\n",
       "      <td>CASSLG[LM]NTEAFF</td>\n",
       "      <td>CASSLGLNTEAFF, CASSLGMNTEAFF</td>\n",
       "      <td>ITEEVGHTDLMAAY</td>\n",
       "    </tr>\n",
       "    <tr>\n",
       "      <th>3</th>\n",
       "      <td>3</td>\n",
       "      <td>2</td>\n",
       "      <td>CASSLADXYEQYF</td>\n",
       "      <td>CASSLAD[AS]YEQYF</td>\n",
       "      <td>CASSLADAYEQYF, CASSLADSYEQYF</td>\n",
       "      <td>ITEEVGHTDLMAAY</td>\n",
       "    </tr>\n",
       "    <tr>\n",
       "      <th>4</th>\n",
       "      <td>4</td>\n",
       "      <td>2</td>\n",
       "      <td>CASSLVTDXNTEAFF</td>\n",
       "      <td>CASSLVTD[LM]NTEAFF</td>\n",
       "      <td>CASSLVTDLNTEAFF, CASSLVTDMNTEAFF</td>\n",
       "      <td>ITEEVGHTDLMAAY</td>\n",
       "    </tr>\n",
       "    <tr>\n",
       "      <th>...</th>\n",
       "      <td>...</td>\n",
       "      <td>...</td>\n",
       "      <td>...</td>\n",
       "      <td>...</td>\n",
       "      <td>...</td>\n",
       "      <td>...</td>\n",
       "    </tr>\n",
       "    <tr>\n",
       "      <th>1977</th>\n",
       "      <td>3</td>\n",
       "      <td>3</td>\n",
       "      <td>CXSSDRQSLVQF</td>\n",
       "      <td>C.SSDRQSLVQF</td>\n",
       "      <td>CTSSDRQSLVQF, CVSSDRQSLVQF, CASSDRQSLVQF</td>\n",
       "      <td>LPPIVAKEI</td>\n",
       "    </tr>\n",
       "    <tr>\n",
       "      <th>1978</th>\n",
       "      <td>4</td>\n",
       "      <td>2</td>\n",
       "      <td>CASSLXQSREQYF</td>\n",
       "      <td>CASSL[VA]QSREQYF</td>\n",
       "      <td>CASSLAQSREQYF, CASSLVQSREQYF</td>\n",
       "      <td>LPPIVAKEI</td>\n",
       "    </tr>\n",
       "    <tr>\n",
       "      <th>1979</th>\n",
       "      <td>5</td>\n",
       "      <td>2</td>\n",
       "      <td>CASSSRXGQEQYF</td>\n",
       "      <td>CASSSR[DG]GQEQYF</td>\n",
       "      <td>CASSSRDGQEQYF, CASSSRGGQEQYF</td>\n",
       "      <td>LPPIVAKEI</td>\n",
       "    </tr>\n",
       "    <tr>\n",
       "      <th>1980</th>\n",
       "      <td>6</td>\n",
       "      <td>2</td>\n",
       "      <td>CXSSDRQSLVQFF</td>\n",
       "      <td>C[AT]SSDRQSLVQFF</td>\n",
       "      <td>CASSDRQSLVQFF, CTSSDRQSLVQFF</td>\n",
       "      <td>LPPIVAKEI</td>\n",
       "    </tr>\n",
       "    <tr>\n",
       "      <th>1981</th>\n",
       "      <td>7</td>\n",
       "      <td>2</td>\n",
       "      <td>CASXHGMGASTSGYTF</td>\n",
       "      <td>CAS[SG]HGMGASTSGYTF</td>\n",
       "      <td>CASGHGMGASTSGYTF, CASSHGMGASTSGYTF</td>\n",
       "      <td>LPPIVAKEI</td>\n",
       "    </tr>\n",
       "  </tbody>\n",
       "</table>\n",
       "<p>1982 rows × 6 columns</p>\n",
       "</div>"
      ],
      "text/plain": [
       "      cluster  size             motif        clustcr_motif  \\\n",
       "0           0     2    CASSXALSYNEQFF    CASS[FG]ALSYNEQFF   \n",
       "1           1     4  CASSLVXDSSYNEQFF     CASSLVsDSSYNEQFF   \n",
       "2           2     2     CASSLGXNTEAFF     CASSLG[LM]NTEAFF   \n",
       "3           3     2     CASSLADXYEQYF     CASSLAD[AS]YEQYF   \n",
       "4           4     2   CASSLVTDXNTEAFF   CASSLVTD[LM]NTEAFF   \n",
       "...       ...   ...               ...                  ...   \n",
       "1977        3     3      CXSSDRQSLVQF         C.SSDRQSLVQF   \n",
       "1978        4     2     CASSLXQSREQYF     CASSL[VA]QSREQYF   \n",
       "1979        5     2     CASSSRXGQEQYF     CASSSR[DG]GQEQYF   \n",
       "1980        6     2     CXSSDRQSLVQFF     C[AT]SSDRQSLVQFF   \n",
       "1981        7     2  CASXHGMGASTSGYTF  CAS[SG]HGMGASTSGYTF   \n",
       "\n",
       "                                            junction_aa         epitope  \n",
       "0                        CASSFALSYNEQFF, CASSGALSYNEQFF  ITEEVGHTDLMAAY  \n",
       "1     CASSLVSDSSYNEQFF, CASSLVTDSSYNEQFF, CASSLASDSS...  ITEEVGHTDLMAAY  \n",
       "2                          CASSLGLNTEAFF, CASSLGMNTEAFF  ITEEVGHTDLMAAY  \n",
       "3                          CASSLADAYEQYF, CASSLADSYEQYF  ITEEVGHTDLMAAY  \n",
       "4                      CASSLVTDLNTEAFF, CASSLVTDMNTEAFF  ITEEVGHTDLMAAY  \n",
       "...                                                 ...             ...  \n",
       "1977           CTSSDRQSLVQF, CVSSDRQSLVQF, CASSDRQSLVQF       LPPIVAKEI  \n",
       "1978                       CASSLAQSREQYF, CASSLVQSREQYF       LPPIVAKEI  \n",
       "1979                       CASSSRDGQEQYF, CASSSRGGQEQYF       LPPIVAKEI  \n",
       "1980                       CASSDRQSLVQFF, CTSSDRQSLVQFF       LPPIVAKEI  \n",
       "1981                 CASGHGMGASTSGYTF, CASSHGMGASTSGYTF       LPPIVAKEI  \n",
       "\n",
       "[1982 rows x 6 columns]"
      ]
     },
     "execution_count": 2,
     "metadata": {},
     "output_type": "execute_result"
    }
   ],
   "source": [
    "clusters = pd.read_csv('./results/epitope_specific_clustering/epitope_specific_clusters.tsv')\n",
    "clusters"
   ]
  },
  {
   "cell_type": "markdown",
   "metadata": {},
   "source": [
    "### Unique motifs"
   ]
  },
  {
   "cell_type": "code",
   "execution_count": 3,
   "metadata": {},
   "outputs": [
    {
     "data": {
      "text/plain": [
       "1921"
      ]
     },
     "execution_count": 3,
     "metadata": {},
     "output_type": "execute_result"
    }
   ],
   "source": [
    "# Determine the number of unique motifs\n",
    "unique_motifs = set(clusters['motif'].tolist())\n",
    "len(unique_motifs)\n"
   ]
  },
  {
   "cell_type": "code",
   "execution_count": 4,
   "metadata": {},
   "outputs": [],
   "source": [
    "# Combine identical motifs for different epitopes in one row\n",
    "unique = clusters.drop_duplicates(subset=['epitope','motif'])\n",
    "unique = (unique.groupby(['motif'])['epitope'].apply(', '.join)\n",
    "           .reset_index())\n",
    "unique['epitope'] = unique['epitope'].apply(\n",
    "    lambda x: x if ',' not in str(x) else ','.join(set(y.strip()\n",
    "                                                   for y in x.split(',')))) \n",
    "# Save the unique motifs\n",
    "unique.to_csv('./results/epitope_specific_clustering/unique_motifs.tsv', index=False)"
   ]
  },
  {
   "cell_type": "code",
   "execution_count": 5,
   "metadata": {},
   "outputs": [
    {
     "name": "stdout",
     "output_type": "stream",
     "text": [
      "Nr of overlapping motifs:  (56, 2)\n"
     ]
    }
   ],
   "source": [
    "# Determine the overlapping motifs\n",
    "overlap = unique[unique['epitope'].str.contains(',')]\n",
    "print('Nr of overlapping motifs: ', overlap.shape)\n",
    "\n",
    "# Save the overlapping motifs\n",
    "overlap.to_csv('./results/epitope_specific_clustering/overlapping_motifs.tsv', index=False)"
   ]
  },
  {
   "cell_type": "code",
   "execution_count": null,
   "metadata": {},
   "outputs": [],
   "source": []
  }
 ],
 "metadata": {
  "kernelspec": {
   "display_name": "Python [conda env:new_raptcr]",
   "language": "python",
   "name": "conda-env-new_raptcr-py"
  },
  "language_info": {
   "codemirror_mode": {
    "name": "ipython",
    "version": 3
   },
   "file_extension": ".py",
   "mimetype": "text/x-python",
   "name": "python",
   "nbconvert_exporter": "python",
   "pygments_lexer": "ipython3",
   "version": "3.10.13"
  }
 },
 "nbformat": 4,
 "nbformat_minor": 2
}
